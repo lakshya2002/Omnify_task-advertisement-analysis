{
 "cells": [
  {
   "cell_type": "code",
   "execution_count": 45,
   "metadata": {},
   "outputs": [],
   "source": [
    "import pandas as pd\n",
    "import numpy as np\n",
    "import matplotlib.pyplot as plt\n",
    "import seaborn as sns"
   ]
  },
  {
   "cell_type": "code",
   "execution_count": 46,
   "metadata": {},
   "outputs": [],
   "source": [
    "df = pd.read_excel(\"G:\\Data Science with ML and AI\\Omnify_internship\\Omnify-Analyst-Intership-Task.xlsx\")"
   ]
  },
  {
   "cell_type": "code",
   "execution_count": 47,
   "metadata": {},
   "outputs": [
    {
     "data": {
      "text/html": [
       "<div>\n",
       "<style scoped>\n",
       "    .dataframe tbody tr th:only-of-type {\n",
       "        vertical-align: middle;\n",
       "    }\n",
       "\n",
       "    .dataframe tbody tr th {\n",
       "        vertical-align: top;\n",
       "    }\n",
       "\n",
       "    .dataframe thead th {\n",
       "        text-align: right;\n",
       "    }\n",
       "</style>\n",
       "<table border=\"1\" class=\"dataframe\">\n",
       "  <thead>\n",
       "    <tr style=\"text-align: right;\">\n",
       "      <th></th>\n",
       "      <th>Week</th>\n",
       "      <th>Campaign</th>\n",
       "      <th>Ad group</th>\n",
       "      <th>Keyword type</th>\n",
       "      <th>Search Keyword</th>\n",
       "      <th>Currency</th>\n",
       "      <th>Clicks</th>\n",
       "      <th>Impressions</th>\n",
       "      <th>Cost ($)</th>\n",
       "      <th>Leads</th>\n",
       "      <th>Prospects</th>\n",
       "      <th>Payment ($)</th>\n",
       "      <th>Payment Date</th>\n",
       "      <th>Country</th>\n",
       "    </tr>\n",
       "  </thead>\n",
       "  <tbody>\n",
       "    <tr>\n",
       "      <th>0</th>\n",
       "      <td>2021-01-25</td>\n",
       "      <td>EK_Generic_Swimming</td>\n",
       "      <td>Pool_Reservation_System_Exact</td>\n",
       "      <td>Exact</td>\n",
       "      <td>pool reservation system</td>\n",
       "      <td>USD</td>\n",
       "      <td>2</td>\n",
       "      <td>17</td>\n",
       "      <td>38.33</td>\n",
       "      <td>0</td>\n",
       "      <td>1</td>\n",
       "      <td>980.0</td>\n",
       "      <td>2021-02-03</td>\n",
       "      <td>USA</td>\n",
       "    </tr>\n",
       "    <tr>\n",
       "      <th>1</th>\n",
       "      <td>2021-01-25</td>\n",
       "      <td>EK_Generic_Swimming</td>\n",
       "      <td>Pool_Booking_App_Exact</td>\n",
       "      <td>Exact</td>\n",
       "      <td>pool booking app</td>\n",
       "      <td>USD</td>\n",
       "      <td>1</td>\n",
       "      <td>13</td>\n",
       "      <td>11.70</td>\n",
       "      <td>0</td>\n",
       "      <td>0</td>\n",
       "      <td>NaN</td>\n",
       "      <td>NaT</td>\n",
       "      <td>USA</td>\n",
       "    </tr>\n",
       "    <tr>\n",
       "      <th>2</th>\n",
       "      <td>2021-01-25</td>\n",
       "      <td>EK_Generic_Quad-Tok_Yoga</td>\n",
       "      <td>Yoga_Studio_Booking_Software_Broad</td>\n",
       "      <td>Broad</td>\n",
       "      <td>yoga studio booking software</td>\n",
       "      <td>USD</td>\n",
       "      <td>4</td>\n",
       "      <td>154</td>\n",
       "      <td>45.13</td>\n",
       "      <td>0</td>\n",
       "      <td>1</td>\n",
       "      <td>1188.0</td>\n",
       "      <td>2021-03-13</td>\n",
       "      <td>USA</td>\n",
       "    </tr>\n",
       "    <tr>\n",
       "      <th>3</th>\n",
       "      <td>2021-01-25</td>\n",
       "      <td>EK_Generic_Swimming</td>\n",
       "      <td>Pool_Scheduling_Software_Phrase</td>\n",
       "      <td>Phrase</td>\n",
       "      <td>pool scheduling software</td>\n",
       "      <td>USD</td>\n",
       "      <td>2</td>\n",
       "      <td>8</td>\n",
       "      <td>23.91</td>\n",
       "      <td>0</td>\n",
       "      <td>0</td>\n",
       "      <td>NaN</td>\n",
       "      <td>NaT</td>\n",
       "      <td>USA</td>\n",
       "    </tr>\n",
       "    <tr>\n",
       "      <th>4</th>\n",
       "      <td>2021-01-25</td>\n",
       "      <td>EK_Generic_Swimming_UK</td>\n",
       "      <td>Pool_Reservation_Software_Broad</td>\n",
       "      <td>Broad</td>\n",
       "      <td>pool reservation software</td>\n",
       "      <td>USD</td>\n",
       "      <td>2</td>\n",
       "      <td>13</td>\n",
       "      <td>4.89</td>\n",
       "      <td>0</td>\n",
       "      <td>0</td>\n",
       "      <td>NaN</td>\n",
       "      <td>NaT</td>\n",
       "      <td>USA</td>\n",
       "    </tr>\n",
       "  </tbody>\n",
       "</table>\n",
       "</div>"
      ],
      "text/plain": [
       "        Week                  Campaign                            Ad group  \\\n",
       "0 2021-01-25       EK_Generic_Swimming       Pool_Reservation_System_Exact   \n",
       "1 2021-01-25       EK_Generic_Swimming              Pool_Booking_App_Exact   \n",
       "2 2021-01-25  EK_Generic_Quad-Tok_Yoga  Yoga_Studio_Booking_Software_Broad   \n",
       "3 2021-01-25       EK_Generic_Swimming     Pool_Scheduling_Software_Phrase   \n",
       "4 2021-01-25    EK_Generic_Swimming_UK     Pool_Reservation_Software_Broad   \n",
       "\n",
       "  Keyword type                Search Keyword Currency  Clicks  Impressions  \\\n",
       "0        Exact       pool reservation system      USD       2           17   \n",
       "1        Exact              pool booking app      USD       1           13   \n",
       "2        Broad  yoga studio booking software      USD       4          154   \n",
       "3       Phrase      pool scheduling software      USD       2            8   \n",
       "4        Broad     pool reservation software      USD       2           13   \n",
       "\n",
       "   Cost ($)  Leads  Prospects  Payment ($) Payment Date Country  \n",
       "0     38.33      0          1        980.0   2021-02-03     USA  \n",
       "1     11.70      0          0          NaN          NaT     USA  \n",
       "2     45.13      0          1       1188.0   2021-03-13     USA  \n",
       "3     23.91      0          0          NaN          NaT     USA  \n",
       "4      4.89      0          0          NaN          NaT     USA  "
      ]
     },
     "execution_count": 47,
     "metadata": {},
     "output_type": "execute_result"
    }
   ],
   "source": [
    "df.head()"
   ]
  },
  {
   "cell_type": "code",
   "execution_count": 48,
   "metadata": {},
   "outputs": [
    {
     "data": {
      "text/html": [
       "<div>\n",
       "<style scoped>\n",
       "    .dataframe tbody tr th:only-of-type {\n",
       "        vertical-align: middle;\n",
       "    }\n",
       "\n",
       "    .dataframe tbody tr th {\n",
       "        vertical-align: top;\n",
       "    }\n",
       "\n",
       "    .dataframe thead th {\n",
       "        text-align: right;\n",
       "    }\n",
       "</style>\n",
       "<table border=\"1\" class=\"dataframe\">\n",
       "  <thead>\n",
       "    <tr style=\"text-align: right;\">\n",
       "      <th></th>\n",
       "      <th>Week</th>\n",
       "      <th>Campaign</th>\n",
       "      <th>Ad group</th>\n",
       "      <th>Keyword type</th>\n",
       "      <th>Search Keyword</th>\n",
       "      <th>Currency</th>\n",
       "      <th>Clicks</th>\n",
       "      <th>Impressions</th>\n",
       "      <th>Cost ($)</th>\n",
       "      <th>Leads</th>\n",
       "      <th>Prospects</th>\n",
       "      <th>Payment ($)</th>\n",
       "      <th>Payment Date</th>\n",
       "      <th>Country</th>\n",
       "    </tr>\n",
       "  </thead>\n",
       "  <tbody>\n",
       "    <tr>\n",
       "      <th>413</th>\n",
       "      <td>2021-05-03</td>\n",
       "      <td>EK_Generic_Swimming</td>\n",
       "      <td>Pool_Reservation_Software_Broad</td>\n",
       "      <td>Broad</td>\n",
       "      <td>pool reservation software</td>\n",
       "      <td>USD</td>\n",
       "      <td>0</td>\n",
       "      <td>1</td>\n",
       "      <td>0.0</td>\n",
       "      <td>0</td>\n",
       "      <td>0</td>\n",
       "      <td>NaN</td>\n",
       "      <td>NaT</td>\n",
       "      <td>USA</td>\n",
       "    </tr>\n",
       "    <tr>\n",
       "      <th>414</th>\n",
       "      <td>2021-05-03</td>\n",
       "      <td>EK_Generic_Quad-Tok_Yoga</td>\n",
       "      <td>Yoga_Studio_Booking_Software_Exact</td>\n",
       "      <td>Exact</td>\n",
       "      <td>yoga studio booking software</td>\n",
       "      <td>USD</td>\n",
       "      <td>0</td>\n",
       "      <td>6</td>\n",
       "      <td>0.0</td>\n",
       "      <td>0</td>\n",
       "      <td>0</td>\n",
       "      <td>NaN</td>\n",
       "      <td>NaT</td>\n",
       "      <td>USA</td>\n",
       "    </tr>\n",
       "    <tr>\n",
       "      <th>415</th>\n",
       "      <td>2021-05-03</td>\n",
       "      <td>EK_Generic_Tri-Tok_Reservation</td>\n",
       "      <td>Reservation_Management_System_Exact</td>\n",
       "      <td>Exact</td>\n",
       "      <td>reservation management system</td>\n",
       "      <td>USD</td>\n",
       "      <td>0</td>\n",
       "      <td>0</td>\n",
       "      <td>0.0</td>\n",
       "      <td>0</td>\n",
       "      <td>0</td>\n",
       "      <td>NaN</td>\n",
       "      <td>NaT</td>\n",
       "      <td>USA</td>\n",
       "    </tr>\n",
       "    <tr>\n",
       "      <th>416</th>\n",
       "      <td>2021-05-03</td>\n",
       "      <td>EK_Generic_Quad-Tok_Pilates</td>\n",
       "      <td>Pilates_Studio_Booking_Software_Broad</td>\n",
       "      <td>Broad</td>\n",
       "      <td>pilates studio booking software</td>\n",
       "      <td>USD</td>\n",
       "      <td>0</td>\n",
       "      <td>1</td>\n",
       "      <td>0.0</td>\n",
       "      <td>0</td>\n",
       "      <td>0</td>\n",
       "      <td>NaN</td>\n",
       "      <td>NaT</td>\n",
       "      <td>USA</td>\n",
       "    </tr>\n",
       "    <tr>\n",
       "      <th>417</th>\n",
       "      <td>2021-05-03</td>\n",
       "      <td>EK_Generic_Quad-Tok_Pilates</td>\n",
       "      <td>Pilates_Studio_Management_Software_Exact</td>\n",
       "      <td>Exact</td>\n",
       "      <td>pilates studio management software</td>\n",
       "      <td>USD</td>\n",
       "      <td>0</td>\n",
       "      <td>3</td>\n",
       "      <td>0.0</td>\n",
       "      <td>0</td>\n",
       "      <td>0</td>\n",
       "      <td>NaN</td>\n",
       "      <td>NaT</td>\n",
       "      <td>USA</td>\n",
       "    </tr>\n",
       "  </tbody>\n",
       "</table>\n",
       "</div>"
      ],
      "text/plain": [
       "          Week                        Campaign  \\\n",
       "413 2021-05-03             EK_Generic_Swimming   \n",
       "414 2021-05-03        EK_Generic_Quad-Tok_Yoga   \n",
       "415 2021-05-03  EK_Generic_Tri-Tok_Reservation   \n",
       "416 2021-05-03     EK_Generic_Quad-Tok_Pilates   \n",
       "417 2021-05-03     EK_Generic_Quad-Tok_Pilates   \n",
       "\n",
       "                                     Ad group Keyword type  \\\n",
       "413           Pool_Reservation_Software_Broad        Broad   \n",
       "414        Yoga_Studio_Booking_Software_Exact        Exact   \n",
       "415       Reservation_Management_System_Exact        Exact   \n",
       "416     Pilates_Studio_Booking_Software_Broad        Broad   \n",
       "417  Pilates_Studio_Management_Software_Exact        Exact   \n",
       "\n",
       "                         Search Keyword Currency  Clicks  Impressions  \\\n",
       "413           pool reservation software      USD       0            1   \n",
       "414        yoga studio booking software      USD       0            6   \n",
       "415       reservation management system      USD       0            0   \n",
       "416     pilates studio booking software      USD       0            1   \n",
       "417  pilates studio management software      USD       0            3   \n",
       "\n",
       "     Cost ($)  Leads  Prospects  Payment ($) Payment Date Country  \n",
       "413       0.0      0          0          NaN          NaT     USA  \n",
       "414       0.0      0          0          NaN          NaT     USA  \n",
       "415       0.0      0          0          NaN          NaT     USA  \n",
       "416       0.0      0          0          NaN          NaT     USA  \n",
       "417       0.0      0          0          NaN          NaT     USA  "
      ]
     },
     "execution_count": 48,
     "metadata": {},
     "output_type": "execute_result"
    }
   ],
   "source": [
    "df.tail()"
   ]
  },
  {
   "cell_type": "markdown",
   "metadata": {},
   "source": [
    "DATASET DESCRIPTION :\n",
    "- 'cost' is our total ad spends for that particular date.\n",
    "- 'Impressions' are the count of people who view our ad\n",
    "- 'clicks' are count of clicks on our ad\n",
    "-  'prospects' are count of people interested in our product (as marked by sales)\n",
    "- 'Payments' are purchases made. Returns on Ad spends are calculated using Payments/Cost.\n",
    "- Each row is cohortised to the date of ad spends so you can compare quality of ad spends.\n",
    " "
   ]
  },
  {
   "cell_type": "markdown",
   "metadata": {},
   "source": [
    "QUESTION:\n",
    "- Create a combined report with all key metrics (esp: Spends and Returns %) in a weekly and monthly format. Decide the number of data fields you would like to showcase here.\n",
    "- Which is the most profitable channel\n",
    "- Which category/keyword is the most profitable\n",
    "- Look for insights by analyzing data points on time series graphs\n",
    "- Analyse the Impact of geography"
   ]
  },
  {
   "cell_type": "code",
   "execution_count": 49,
   "metadata": {},
   "outputs": [
    {
     "data": {
      "text/plain": [
       "(418, 14)"
      ]
     },
     "execution_count": 49,
     "metadata": {},
     "output_type": "execute_result"
    }
   ],
   "source": [
    "df.shape"
   ]
  },
  {
   "cell_type": "markdown",
   "metadata": {},
   "source": [
    "<h3>1. Data preprocessing and calculating metrics</h3>"
   ]
  },
  {
   "cell_type": "code",
   "execution_count": 50,
   "metadata": {},
   "outputs": [],
   "source": [
    "df.rename(columns={\n",
    "    'Week': 'Week_Start_Date',\n",
    "    'Campaign': 'Campaign_Name',\n",
    "    'Ad group': 'Ad_Group',\n",
    "    'Keyword type': 'Keyword_Type',\n",
    "    'Search Keyword': 'Search_Keyword',\n",
    "    'Currency': 'Currency',\n",
    "    'Clicks': 'Clicks',\n",
    "    'Impressions': 'Impressions',\n",
    "    'Cost ($)': 'Cost',\n",
    "    'Leads': 'Leads',\n",
    "    'Prospects': 'Prospects',\n",
    "    'Payment ($)': 'Payment',\n",
    "    'Payment Date': 'Payment_Date',\n",
    "    'Country': 'Country'\n",
    "}, inplace=True)"
   ]
  },
  {
   "cell_type": "code",
   "execution_count": 51,
   "metadata": {},
   "outputs": [
    {
     "data": {
      "text/plain": [
       "Index(['week_start_date', 'campaign_name', 'ad_group', 'keyword_type',\n",
       "       'search_keyword', 'currency', 'clicks', 'impressions', 'cost', 'leads',\n",
       "       'prospects', 'payment', 'payment_date', 'country'],\n",
       "      dtype='object')"
      ]
     },
     "execution_count": 51,
     "metadata": {},
     "output_type": "execute_result"
    }
   ],
   "source": [
    "df.columns=df.columns.str.lower()\n",
    "df.columns"
   ]
  },
  {
   "cell_type": "code",
   "execution_count": 52,
   "metadata": {},
   "outputs": [
    {
     "data": {
      "text/plain": [
       "week_start_date      0\n",
       "campaign_name        0\n",
       "ad_group             0\n",
       "keyword_type         0\n",
       "search_keyword       6\n",
       "currency             0\n",
       "clicks               0\n",
       "impressions          0\n",
       "cost                 0\n",
       "leads                0\n",
       "prospects            0\n",
       "payment            410\n",
       "payment_date       410\n",
       "country              0\n",
       "dtype: int64"
      ]
     },
     "execution_count": 52,
     "metadata": {},
     "output_type": "execute_result"
    }
   ],
   "source": [
    "df.isna().sum()"
   ]
  },
  {
   "cell_type": "markdown",
   "metadata": {},
   "source": [
    "Conclusion: there are 2 columns that contains null values."
   ]
  },
  {
   "cell_type": "code",
   "execution_count": 53,
   "metadata": {},
   "outputs": [],
   "source": [
    "# fill missing or empty values with 0\n",
    "df['payment'].fillna(0, inplace=True)\n",
    "df['payment_date'].fillna(0, inplace=True)\n"
   ]
  },
  {
   "cell_type": "code",
   "execution_count": 54,
   "metadata": {},
   "outputs": [
    {
     "data": {
      "text/plain": [
       "week_start_date    0\n",
       "campaign_name      0\n",
       "ad_group           0\n",
       "keyword_type       0\n",
       "search_keyword     6\n",
       "currency           0\n",
       "clicks             0\n",
       "impressions        0\n",
       "cost               0\n",
       "leads              0\n",
       "prospects          0\n",
       "payment            0\n",
       "payment_date       0\n",
       "country            0\n",
       "dtype: int64"
      ]
     },
     "execution_count": 54,
     "metadata": {},
     "output_type": "execute_result"
    }
   ],
   "source": [
    "df.isna().sum()"
   ]
  },
  {
   "cell_type": "markdown",
   "metadata": {},
   "source": [
    "conclusion: now there iss no missing values present in the dataset."
   ]
  },
  {
   "cell_type": "code",
   "execution_count": 55,
   "metadata": {},
   "outputs": [
    {
     "data": {
      "text/plain": [
       "False"
      ]
     },
     "execution_count": 55,
     "metadata": {},
     "output_type": "execute_result"
    }
   ],
   "source": [
    "# Check for Duplicate rows\n",
    "df.duplicated().any()"
   ]
  },
  {
   "cell_type": "markdown",
   "metadata": {},
   "source": [
    "conclusion: There are no duplicate rows present in the dataset."
   ]
  },
  {
   "cell_type": "code",
   "execution_count": 56,
   "metadata": {},
   "outputs": [
    {
     "data": {
      "text/plain": [
       "Index(['week_start_date', 'campaign_name', 'ad_group', 'keyword_type',\n",
       "       'search_keyword', 'currency', 'clicks', 'impressions', 'cost', 'leads',\n",
       "       'prospects', 'payment', 'payment_date', 'country'],\n",
       "      dtype='object')"
      ]
     },
     "execution_count": 56,
     "metadata": {},
     "output_type": "execute_result"
    }
   ],
   "source": [
    "df.columns"
   ]
  },
  {
   "cell_type": "code",
   "execution_count": 57,
   "metadata": {},
   "outputs": [
    {
     "data": {
      "image/png": "[encoded data removed]",
      "text/plain": [
       "<Figure size 500x500 with 3 Axes>"
      ]
     },
     "metadata": {},
     "output_type": "display_data"
    }
   ],
   "source": [
    "# Checking for outliers\n",
    "fig, axs = plt.subplots(3, figsize = (5,5))\n",
    "plt1 = sns.boxplot(df['cost'], ax = axs[0])\n",
    "plt2 = sns.boxplot(df['clicks'], ax = axs[1])\n",
    "plt3 = sns.boxplot(df['impressions'], ax = axs[2])\n",
    "plt.tight_layout()\n"
   ]
  },
  {
   "cell_type": "markdown",
   "metadata": {},
   "source": [
    "Conclusion : we do not spend most of the ad"
   ]
  },
  {
   "cell_type": "markdown",
   "metadata": {},
   "source": []
  },
  {
   "cell_type": "markdown",
   "metadata": {},
   "source": [
    "Conclusion : max payment is about $1000"
   ]
  },
  {
   "cell_type": "code",
   "execution_count": 58,
   "metadata": {},
   "outputs": [],
   "source": [
    "# Calculate the Returns percentage and add it as a new column\n",
    "df['return_%'] = (df['payment'] / df['cost']) * 100"
   ]
  },
  {
   "cell_type": "code",
   "execution_count": 59,
   "metadata": {},
   "outputs": [
    {
     "data": {
      "text/plain": [
       "0      2556.744065\n",
       "1         0.000000\n",
       "2      2632.395302\n",
       "3         0.000000\n",
       "4         0.000000\n",
       "          ...     \n",
       "413            NaN\n",
       "414            NaN\n",
       "415            NaN\n",
       "416            NaN\n",
       "417            NaN\n",
       "Name: return_%, Length: 418, dtype: float64"
      ]
     },
     "execution_count": 59,
     "metadata": {},
     "output_type": "execute_result"
    }
   ],
   "source": [
    "df['return_%']"
   ]
  },
  {
   "cell_type": "code",
   "execution_count": 60,
   "metadata": {},
   "outputs": [],
   "source": [
    "# Extract week and month from the 'Week' column\n",
    "df['week'] = pd.to_datetime(df['week_start_date'])\n",
    "df['month'] = df['week'].dt.to_period('M')"
   ]
  },
  {
   "cell_type": "code",
   "execution_count": 61,
   "metadata": {},
   "outputs": [
    {
     "data": {
      "text/html": [
       "<div>\n",
       "<style scoped>\n",
       "    .dataframe tbody tr th:only-of-type {\n",
       "        vertical-align: middle;\n",
       "    }\n",
       "\n",
       "    .dataframe tbody tr th {\n",
       "        vertical-align: top;\n",
       "    }\n",
       "\n",
       "    .dataframe thead th {\n",
       "        text-align: right;\n",
       "    }\n",
       "</style>\n",
       "<table border=\"1\" class=\"dataframe\">\n",
       "  <thead>\n",
       "    <tr style=\"text-align: right;\">\n",
       "      <th></th>\n",
       "      <th>week_start_date</th>\n",
       "      <th>week</th>\n",
       "      <th>month</th>\n",
       "    </tr>\n",
       "  </thead>\n",
       "  <tbody>\n",
       "    <tr>\n",
       "      <th>0</th>\n",
       "      <td>2021-01-25</td>\n",
       "      <td>2021-01-25</td>\n",
       "      <td>2021-01</td>\n",
       "    </tr>\n",
       "    <tr>\n",
       "      <th>1</th>\n",
       "      <td>2021-01-25</td>\n",
       "      <td>2021-01-25</td>\n",
       "      <td>2021-01</td>\n",
       "    </tr>\n",
       "    <tr>\n",
       "      <th>2</th>\n",
       "      <td>2021-01-25</td>\n",
       "      <td>2021-01-25</td>\n",
       "      <td>2021-01</td>\n",
       "    </tr>\n",
       "    <tr>\n",
       "      <th>3</th>\n",
       "      <td>2021-01-25</td>\n",
       "      <td>2021-01-25</td>\n",
       "      <td>2021-01</td>\n",
       "    </tr>\n",
       "    <tr>\n",
       "      <th>4</th>\n",
       "      <td>2021-01-25</td>\n",
       "      <td>2021-01-25</td>\n",
       "      <td>2021-01</td>\n",
       "    </tr>\n",
       "    <tr>\n",
       "      <th>...</th>\n",
       "      <td>...</td>\n",
       "      <td>...</td>\n",
       "      <td>...</td>\n",
       "    </tr>\n",
       "    <tr>\n",
       "      <th>413</th>\n",
       "      <td>2021-05-03</td>\n",
       "      <td>2021-05-03</td>\n",
       "      <td>2021-05</td>\n",
       "    </tr>\n",
       "    <tr>\n",
       "      <th>414</th>\n",
       "      <td>2021-05-03</td>\n",
       "      <td>2021-05-03</td>\n",
       "      <td>2021-05</td>\n",
       "    </tr>\n",
       "    <tr>\n",
       "      <th>415</th>\n",
       "      <td>2021-05-03</td>\n",
       "      <td>2021-05-03</td>\n",
       "      <td>2021-05</td>\n",
       "    </tr>\n",
       "    <tr>\n",
       "      <th>416</th>\n",
       "      <td>2021-05-03</td>\n",
       "      <td>2021-05-03</td>\n",
       "      <td>2021-05</td>\n",
       "    </tr>\n",
       "    <tr>\n",
       "      <th>417</th>\n",
       "      <td>2021-05-03</td>\n",
       "      <td>2021-05-03</td>\n",
       "      <td>2021-05</td>\n",
       "    </tr>\n",
       "  </tbody>\n",
       "</table>\n",
       "<p>418 rows × 3 columns</p>\n",
       "</div>"
      ],
      "text/plain": [
       "    week_start_date       week    month\n",
       "0        2021-01-25 2021-01-25  2021-01\n",
       "1        2021-01-25 2021-01-25  2021-01\n",
       "2        2021-01-25 2021-01-25  2021-01\n",
       "3        2021-01-25 2021-01-25  2021-01\n",
       "4        2021-01-25 2021-01-25  2021-01\n",
       "..              ...        ...      ...\n",
       "413      2021-05-03 2021-05-03  2021-05\n",
       "414      2021-05-03 2021-05-03  2021-05\n",
       "415      2021-05-03 2021-05-03  2021-05\n",
       "416      2021-05-03 2021-05-03  2021-05\n",
       "417      2021-05-03 2021-05-03  2021-05\n",
       "\n",
       "[418 rows x 3 columns]"
      ]
     },
     "execution_count": 61,
     "metadata": {},
     "output_type": "execute_result"
    }
   ],
   "source": [
    "selected_columns = df[['week_start_date', 'week', 'month']]\n",
    "selected_columns"
   ]
  },
  {
   "cell_type": "code",
   "execution_count": 62,
   "metadata": {},
   "outputs": [],
   "source": [
    "# Group the data by week \n",
    "weekly_report = df.groupby('week').agg({\n",
    "    'cost': 'sum',\n",
    "    'payment': 'sum',\n",
    "    'return_%': 'mean',\n",
    "    'clicks': 'sum',\n",
    "    'impressions': 'sum',\n",
    "    'leads': 'sum',\n",
    "    'prospects': 'sum'\n",
    "}).reset_index()"
   ]
  },
  {
   "cell_type": "code",
   "execution_count": 63,
   "metadata": {},
   "outputs": [
    {
     "data": {
      "text/html": [
       "<div>\n",
       "<style scoped>\n",
       "    .dataframe tbody tr th:only-of-type {\n",
       "        vertical-align: middle;\n",
       "    }\n",
       "\n",
       "    .dataframe tbody tr th {\n",
       "        vertical-align: top;\n",
       "    }\n",
       "\n",
       "    .dataframe thead th {\n",
       "        text-align: right;\n",
       "    }\n",
       "</style>\n",
       "<table border=\"1\" class=\"dataframe\">\n",
       "  <thead>\n",
       "    <tr style=\"text-align: right;\">\n",
       "      <th></th>\n",
       "      <th>week</th>\n",
       "      <th>cost</th>\n",
       "      <th>payment</th>\n",
       "      <th>return_%</th>\n",
       "      <th>clicks</th>\n",
       "      <th>impressions</th>\n",
       "      <th>leads</th>\n",
       "      <th>prospects</th>\n",
       "    </tr>\n",
       "  </thead>\n",
       "  <tbody>\n",
       "    <tr>\n",
       "      <th>0</th>\n",
       "      <td>2021-01-25</td>\n",
       "      <td>154.79</td>\n",
       "      <td>2168.0</td>\n",
       "      <td>576.571041</td>\n",
       "      <td>15</td>\n",
       "      <td>319</td>\n",
       "      <td>1</td>\n",
       "      <td>2</td>\n",
       "    </tr>\n",
       "    <tr>\n",
       "      <th>1</th>\n",
       "      <td>2021-02-01</td>\n",
       "      <td>192.58</td>\n",
       "      <td>0.0</td>\n",
       "      <td>0.000000</td>\n",
       "      <td>19</td>\n",
       "      <td>373</td>\n",
       "      <td>0</td>\n",
       "      <td>1</td>\n",
       "    </tr>\n",
       "    <tr>\n",
       "      <th>2</th>\n",
       "      <td>2021-02-08</td>\n",
       "      <td>216.13</td>\n",
       "      <td>980.0</td>\n",
       "      <td>677.731674</td>\n",
       "      <td>21</td>\n",
       "      <td>364</td>\n",
       "      <td>0</td>\n",
       "      <td>1</td>\n",
       "    </tr>\n",
       "    <tr>\n",
       "      <th>3</th>\n",
       "      <td>2021-02-15</td>\n",
       "      <td>235.30</td>\n",
       "      <td>1788.0</td>\n",
       "      <td>1243.999165</td>\n",
       "      <td>35</td>\n",
       "      <td>671</td>\n",
       "      <td>0</td>\n",
       "      <td>2</td>\n",
       "    </tr>\n",
       "    <tr>\n",
       "      <th>4</th>\n",
       "      <td>2021-02-22</td>\n",
       "      <td>190.90</td>\n",
       "      <td>0.0</td>\n",
       "      <td>0.000000</td>\n",
       "      <td>22</td>\n",
       "      <td>478</td>\n",
       "      <td>0</td>\n",
       "      <td>1</td>\n",
       "    </tr>\n",
       "    <tr>\n",
       "      <th>5</th>\n",
       "      <td>2021-03-01</td>\n",
       "      <td>141.40</td>\n",
       "      <td>980.0</td>\n",
       "      <td>331.282537</td>\n",
       "      <td>14</td>\n",
       "      <td>407</td>\n",
       "      <td>0</td>\n",
       "      <td>1</td>\n",
       "    </tr>\n",
       "    <tr>\n",
       "      <th>6</th>\n",
       "      <td>2021-03-08</td>\n",
       "      <td>258.20</td>\n",
       "      <td>0.0</td>\n",
       "      <td>0.000000</td>\n",
       "      <td>34</td>\n",
       "      <td>503</td>\n",
       "      <td>3</td>\n",
       "      <td>1</td>\n",
       "    </tr>\n",
       "    <tr>\n",
       "      <th>7</th>\n",
       "      <td>2021-03-15</td>\n",
       "      <td>184.36</td>\n",
       "      <td>0.0</td>\n",
       "      <td>0.000000</td>\n",
       "      <td>22</td>\n",
       "      <td>468</td>\n",
       "      <td>1</td>\n",
       "      <td>0</td>\n",
       "    </tr>\n",
       "    <tr>\n",
       "      <th>8</th>\n",
       "      <td>2021-03-22</td>\n",
       "      <td>308.73</td>\n",
       "      <td>2388.0</td>\n",
       "      <td>366.285758</td>\n",
       "      <td>46</td>\n",
       "      <td>659</td>\n",
       "      <td>1</td>\n",
       "      <td>4</td>\n",
       "    </tr>\n",
       "    <tr>\n",
       "      <th>9</th>\n",
       "      <td>2021-03-29</td>\n",
       "      <td>172.11</td>\n",
       "      <td>0.0</td>\n",
       "      <td>0.000000</td>\n",
       "      <td>39</td>\n",
       "      <td>586</td>\n",
       "      <td>0</td>\n",
       "      <td>0</td>\n",
       "    </tr>\n",
       "    <tr>\n",
       "      <th>10</th>\n",
       "      <td>2021-04-05</td>\n",
       "      <td>176.96</td>\n",
       "      <td>0.0</td>\n",
       "      <td>0.000000</td>\n",
       "      <td>29</td>\n",
       "      <td>461</td>\n",
       "      <td>2</td>\n",
       "      <td>0</td>\n",
       "    </tr>\n",
       "    <tr>\n",
       "      <th>11</th>\n",
       "      <td>2021-04-12</td>\n",
       "      <td>137.21</td>\n",
       "      <td>2388.0</td>\n",
       "      <td>1350.984386</td>\n",
       "      <td>24</td>\n",
       "      <td>324</td>\n",
       "      <td>1</td>\n",
       "      <td>4</td>\n",
       "    </tr>\n",
       "    <tr>\n",
       "      <th>12</th>\n",
       "      <td>2021-04-19</td>\n",
       "      <td>87.38</td>\n",
       "      <td>0.0</td>\n",
       "      <td>0.000000</td>\n",
       "      <td>19</td>\n",
       "      <td>328</td>\n",
       "      <td>1</td>\n",
       "      <td>1</td>\n",
       "    </tr>\n",
       "    <tr>\n",
       "      <th>13</th>\n",
       "      <td>2021-04-26</td>\n",
       "      <td>103.26</td>\n",
       "      <td>0.0</td>\n",
       "      <td>0.000000</td>\n",
       "      <td>17</td>\n",
       "      <td>487</td>\n",
       "      <td>1</td>\n",
       "      <td>0</td>\n",
       "    </tr>\n",
       "    <tr>\n",
       "      <th>14</th>\n",
       "      <td>2021-05-03</td>\n",
       "      <td>229.37</td>\n",
       "      <td>1188.0</td>\n",
       "      <td>139.178519</td>\n",
       "      <td>31</td>\n",
       "      <td>537</td>\n",
       "      <td>1</td>\n",
       "      <td>3</td>\n",
       "    </tr>\n",
       "  </tbody>\n",
       "</table>\n",
       "</div>"
      ],
      "text/plain": [
       "         week    cost  payment     return_%  clicks  impressions  leads  \\\n",
       "0  2021-01-25  154.79   2168.0   576.571041      15          319      1   \n",
       "1  2021-02-01  192.58      0.0     0.000000      19          373      0   \n",
       "2  2021-02-08  216.13    980.0   677.731674      21          364      0   \n",
       "3  2021-02-15  235.30   1788.0  1243.999165      35          671      0   \n",
       "4  2021-02-22  190.90      0.0     0.000000      22          478      0   \n",
       "5  2021-03-01  141.40    980.0   331.282537      14          407      0   \n",
       "6  2021-03-08  258.20      0.0     0.000000      34          503      3   \n",
       "7  2021-03-15  184.36      0.0     0.000000      22          468      1   \n",
       "8  2021-03-22  308.73   2388.0   366.285758      46          659      1   \n",
       "9  2021-03-29  172.11      0.0     0.000000      39          586      0   \n",
       "10 2021-04-05  176.96      0.0     0.000000      29          461      2   \n",
       "11 2021-04-12  137.21   2388.0  1350.984386      24          324      1   \n",
       "12 2021-04-19   87.38      0.0     0.000000      19          328      1   \n",
       "13 2021-04-26  103.26      0.0     0.000000      17          487      1   \n",
       "14 2021-05-03  229.37   1188.0   139.178519      31          537      1   \n",
       "\n",
       "    prospects  \n",
       "0           2  \n",
       "1           1  \n",
       "2           1  \n",
       "3           2  \n",
       "4           1  \n",
       "5           1  \n",
       "6           1  \n",
       "7           0  \n",
       "8           4  \n",
       "9           0  \n",
       "10          0  \n",
       "11          4  \n",
       "12          1  \n",
       "13          0  \n",
       "14          3  "
      ]
     },
     "execution_count": 63,
     "metadata": {},
     "output_type": "execute_result"
    }
   ],
   "source": [
    "weekly_report"
   ]
  },
  {
   "cell_type": "markdown",
   "metadata": {},
   "source": [
    "<b>Conclusion:</b> \n",
    "- we will have one row for each week, with columns showing the sum of cost, payments, clicks, impression, leads, prospects, and the mean of return percentage (purchase/costs) for each week."
   ]
  },
  {
   "cell_type": "code",
   "execution_count": 64,
   "metadata": {},
   "outputs": [],
   "source": [
    "# Group the data by month\n",
    "monthly_report = df.groupby('month').agg({\n",
    "    'cost': 'sum',\n",
    "    'payment': 'sum',\n",
    "    'return_%': 'mean',\n",
    "    'clicks': 'sum',\n",
    "    'impressions': 'sum',\n",
    "    'leads': 'sum',\n",
    "    'prospects': 'sum'\n",
    "}).reset_index()"
   ]
  },
  {
   "cell_type": "code",
   "execution_count": 65,
   "metadata": {},
   "outputs": [
    {
     "data": {
      "text/html": [
       "<div>\n",
       "<style scoped>\n",
       "    .dataframe tbody tr th:only-of-type {\n",
       "        vertical-align: middle;\n",
       "    }\n",
       "\n",
       "    .dataframe tbody tr th {\n",
       "        vertical-align: top;\n",
       "    }\n",
       "\n",
       "    .dataframe thead th {\n",
       "        text-align: right;\n",
       "    }\n",
       "</style>\n",
       "<table border=\"1\" class=\"dataframe\">\n",
       "  <thead>\n",
       "    <tr style=\"text-align: right;\">\n",
       "      <th></th>\n",
       "      <th>month</th>\n",
       "      <th>cost</th>\n",
       "      <th>payment</th>\n",
       "      <th>return_%</th>\n",
       "      <th>clicks</th>\n",
       "      <th>impressions</th>\n",
       "      <th>leads</th>\n",
       "      <th>prospects</th>\n",
       "    </tr>\n",
       "  </thead>\n",
       "  <tbody>\n",
       "    <tr>\n",
       "      <th>0</th>\n",
       "      <td>2021-01</td>\n",
       "      <td>154.79</td>\n",
       "      <td>2168.0</td>\n",
       "      <td>576.571041</td>\n",
       "      <td>15</td>\n",
       "      <td>319</td>\n",
       "      <td>1</td>\n",
       "      <td>2</td>\n",
       "    </tr>\n",
       "    <tr>\n",
       "      <th>1</th>\n",
       "      <td>2021-02</td>\n",
       "      <td>834.91</td>\n",
       "      <td>2768.0</td>\n",
       "      <td>449.506339</td>\n",
       "      <td>97</td>\n",
       "      <td>1886</td>\n",
       "      <td>0</td>\n",
       "      <td>5</td>\n",
       "    </tr>\n",
       "    <tr>\n",
       "      <th>2</th>\n",
       "      <td>2021-03</td>\n",
       "      <td>1064.80</td>\n",
       "      <td>3368.0</td>\n",
       "      <td>128.739866</td>\n",
       "      <td>155</td>\n",
       "      <td>2623</td>\n",
       "      <td>5</td>\n",
       "      <td>6</td>\n",
       "    </tr>\n",
       "    <tr>\n",
       "      <th>3</th>\n",
       "      <td>2021-04</td>\n",
       "      <td>504.81</td>\n",
       "      <td>2388.0</td>\n",
       "      <td>347.395985</td>\n",
       "      <td>89</td>\n",
       "      <td>1600</td>\n",
       "      <td>5</td>\n",
       "      <td>5</td>\n",
       "    </tr>\n",
       "    <tr>\n",
       "      <th>4</th>\n",
       "      <td>2021-05</td>\n",
       "      <td>229.37</td>\n",
       "      <td>1188.0</td>\n",
       "      <td>139.178519</td>\n",
       "      <td>31</td>\n",
       "      <td>537</td>\n",
       "      <td>1</td>\n",
       "      <td>3</td>\n",
       "    </tr>\n",
       "  </tbody>\n",
       "</table>\n",
       "</div>"
      ],
      "text/plain": [
       "     month     cost  payment    return_%  clicks  impressions  leads  \\\n",
       "0  2021-01   154.79   2168.0  576.571041      15          319      1   \n",
       "1  2021-02   834.91   2768.0  449.506339      97         1886      0   \n",
       "2  2021-03  1064.80   3368.0  128.739866     155         2623      5   \n",
       "3  2021-04   504.81   2388.0  347.395985      89         1600      5   \n",
       "4  2021-05   229.37   1188.0  139.178519      31          537      1   \n",
       "\n",
       "   prospects  \n",
       "0          2  \n",
       "1          5  \n",
       "2          6  \n",
       "3          5  \n",
       "4          3  "
      ]
     },
     "execution_count": 65,
     "metadata": {},
     "output_type": "execute_result"
    }
   ],
   "source": [
    "monthly_report"
   ]
  },
  {
   "cell_type": "markdown",
   "metadata": {},
   "source": [
    "Conclusion : \n",
    "- we will have one row for each week, with columns showing the sum of cost, payments, clicks, impression, leads, prospects, and the mean of return percentage (purchase/costs) for each week.\n",
    "- from above monthly report we conclude that in 1st month we get maximum return_% with least spendings on ad."
   ]
  },
  {
   "cell_type": "code",
   "execution_count": 66,
   "metadata": {},
   "outputs": [
    {
     "name": "stdout",
     "output_type": "stream",
     "text": [
      "<class 'pandas.core.frame.DataFrame'>\n",
      "RangeIndex: 5 entries, 0 to 4\n",
      "Data columns (total 8 columns):\n",
      " #   Column       Non-Null Count  Dtype    \n",
      "---  ------       --------------  -----    \n",
      " 0   month        5 non-null      period[M]\n",
      " 1   cost         5 non-null      float64  \n",
      " 2   payment      5 non-null      float64  \n",
      " 3   return_%     5 non-null      float64  \n",
      " 4   clicks       5 non-null      int64    \n",
      " 5   impressions  5 non-null      int64    \n",
      " 6   leads        5 non-null      int64    \n",
      " 7   prospects    5 non-null      int64    \n",
      "dtypes: float64(3), int64(4), period[M](1)\n",
      "memory usage: 448.0 bytes\n"
     ]
    }
   ],
   "source": [
    "monthly_report.info()"
   ]
  },
  {
   "cell_type": "markdown",
   "metadata": {},
   "source": [
    "<h3>2.Which is the most profitable channel</h3>"
   ]
  },
  {
   "cell_type": "code",
   "execution_count": 67,
   "metadata": {},
   "outputs": [
    {
     "data": {
      "text/html": [
       "<div>\n",
       "<style scoped>\n",
       "    .dataframe tbody tr th:only-of-type {\n",
       "        vertical-align: middle;\n",
       "    }\n",
       "\n",
       "    .dataframe tbody tr th {\n",
       "        vertical-align: top;\n",
       "    }\n",
       "\n",
       "    .dataframe thead th {\n",
       "        text-align: right;\n",
       "    }\n",
       "</style>\n",
       "<table border=\"1\" class=\"dataframe\">\n",
       "  <thead>\n",
       "    <tr style=\"text-align: right;\">\n",
       "      <th></th>\n",
       "      <th>week_start_date</th>\n",
       "      <th>campaign_name</th>\n",
       "      <th>ad_group</th>\n",
       "      <th>keyword_type</th>\n",
       "      <th>search_keyword</th>\n",
       "      <th>currency</th>\n",
       "      <th>clicks</th>\n",
       "      <th>impressions</th>\n",
       "      <th>cost</th>\n",
       "      <th>leads</th>\n",
       "      <th>prospects</th>\n",
       "      <th>payment</th>\n",
       "      <th>payment_date</th>\n",
       "      <th>country</th>\n",
       "      <th>return_%</th>\n",
       "      <th>week</th>\n",
       "      <th>month</th>\n",
       "    </tr>\n",
       "  </thead>\n",
       "  <tbody>\n",
       "    <tr>\n",
       "      <th>0</th>\n",
       "      <td>2021-01-25</td>\n",
       "      <td>EK_Generic_Swimming</td>\n",
       "      <td>Pool_Reservation_System_Exact</td>\n",
       "      <td>Exact</td>\n",
       "      <td>pool reservation system</td>\n",
       "      <td>USD</td>\n",
       "      <td>2</td>\n",
       "      <td>17</td>\n",
       "      <td>38.33</td>\n",
       "      <td>0</td>\n",
       "      <td>1</td>\n",
       "      <td>980.0</td>\n",
       "      <td>2021-02-03 00:00:00</td>\n",
       "      <td>USA</td>\n",
       "      <td>2556.744065</td>\n",
       "      <td>2021-01-25</td>\n",
       "      <td>2021-01</td>\n",
       "    </tr>\n",
       "  </tbody>\n",
       "</table>\n",
       "</div>"
      ],
      "text/plain": [
       "  week_start_date        campaign_name                       ad_group  \\\n",
       "0      2021-01-25  EK_Generic_Swimming  Pool_Reservation_System_Exact   \n",
       "\n",
       "  keyword_type           search_keyword currency  clicks  impressions   cost  \\\n",
       "0        Exact  pool reservation system      USD       2           17  38.33   \n",
       "\n",
       "   leads  prospects  payment         payment_date country     return_%  \\\n",
       "0      0          1    980.0  2021-02-03 00:00:00     USA  2556.744065   \n",
       "\n",
       "        week    month  \n",
       "0 2021-01-25  2021-01  "
      ]
     },
     "execution_count": 67,
     "metadata": {},
     "output_type": "execute_result"
    }
   ],
   "source": [
    "df.head(1)"
   ]
  },
  {
   "cell_type": "code",
   "execution_count": 68,
   "metadata": {},
   "outputs": [
    {
     "data": {
      "text/plain": [
       "campaign_name\n",
       "EK_Generic_Quad-Tok_Pilates                   0.000000\n",
       "EK_Generic_Quad-Tok_Yoga                    291.257239\n",
       "EK_Generic_Quad-Tok_Yoga_Singapore            0.000000\n",
       "EK_Generic_Swimming                         138.084131\n",
       "EK_Generic_Swimming_Canada                    0.000000\n",
       "EK_Generic_Swimming_Singapore                 0.000000\n",
       "EK_Generic_Swimming_UK                      739.343644\n",
       "EK_Generic_Tri-Tok_Pilates                    0.000000\n",
       "EK_Generic_Tri-Tok_Reservation              898.263537\n",
       "EK_Generic_Tri-Tok_Reservation_Canada         0.000000\n",
       "EK_Generic_Tri-Tok_Reservation_Singapore      0.000000\n",
       "EK_Generic_Tri-Tok_Reservation_UAE            0.000000\n",
       "EK_Generic_Tri-Tok_Reservation_UK             0.000000\n",
       "EK_Generic_Tri-Tok_Yoga                     164.483704\n",
       "EK_Generic_Tri-Tok_Yoga_Singapore                  NaN\n",
       "Name: return_%, dtype: float64"
      ]
     },
     "execution_count": 68,
     "metadata": {},
     "output_type": "execute_result"
    }
   ],
   "source": [
    "# for finding the most profitable cahnnel by considering max. return persentage.\n",
    "channel_profitability = df.groupby('campaign_name')['return_%'].mean()\n",
    "channel_profitability"
   ]
  },
  {
   "cell_type": "markdown",
   "metadata": {},
   "source": [
    "Conclusion:\n",
    "- channel with having highest average return percentage is the most profitable channel."
   ]
  },
  {
   "cell_type": "code",
   "execution_count": 69,
   "metadata": {},
   "outputs": [
    {
     "data": {
      "text/plain": [
       "'EK_Generic_Tri-Tok_Reservation'"
      ]
     },
     "execution_count": 69,
     "metadata": {},
     "output_type": "execute_result"
    }
   ],
   "source": [
    "most_profitable_channel = channel_profitability.idxmax()\n",
    "most_profitable_channel"
   ]
  },
  {
   "cell_type": "markdown",
   "metadata": {},
   "source": [
    "Conclusion:\n",
    "- <b>'EK_Generic_Tri-Tok_Reservation'</b> is the most profitable channel."
   ]
  },
  {
   "cell_type": "markdown",
   "metadata": {},
   "source": [
    "<h3>3. Which category/keyword is the most profitable</h3>"
   ]
  },
  {
   "cell_type": "code",
   "execution_count": 70,
   "metadata": {},
   "outputs": [
    {
     "data": {
      "text/html": [
       "<div>\n",
       "<style scoped>\n",
       "    .dataframe tbody tr th:only-of-type {\n",
       "        vertical-align: middle;\n",
       "    }\n",
       "\n",
       "    .dataframe tbody tr th {\n",
       "        vertical-align: top;\n",
       "    }\n",
       "\n",
       "    .dataframe thead th {\n",
       "        text-align: right;\n",
       "    }\n",
       "</style>\n",
       "<table border=\"1\" class=\"dataframe\">\n",
       "  <thead>\n",
       "    <tr style=\"text-align: right;\">\n",
       "      <th></th>\n",
       "      <th>week_start_date</th>\n",
       "      <th>campaign_name</th>\n",
       "      <th>ad_group</th>\n",
       "      <th>keyword_type</th>\n",
       "      <th>search_keyword</th>\n",
       "      <th>currency</th>\n",
       "      <th>clicks</th>\n",
       "      <th>impressions</th>\n",
       "      <th>cost</th>\n",
       "      <th>leads</th>\n",
       "      <th>prospects</th>\n",
       "      <th>payment</th>\n",
       "      <th>payment_date</th>\n",
       "      <th>country</th>\n",
       "      <th>return_%</th>\n",
       "      <th>week</th>\n",
       "      <th>month</th>\n",
       "    </tr>\n",
       "  </thead>\n",
       "  <tbody>\n",
       "    <tr>\n",
       "      <th>0</th>\n",
       "      <td>2021-01-25</td>\n",
       "      <td>EK_Generic_Swimming</td>\n",
       "      <td>Pool_Reservation_System_Exact</td>\n",
       "      <td>Exact</td>\n",
       "      <td>pool reservation system</td>\n",
       "      <td>USD</td>\n",
       "      <td>2</td>\n",
       "      <td>17</td>\n",
       "      <td>38.33</td>\n",
       "      <td>0</td>\n",
       "      <td>1</td>\n",
       "      <td>980.0</td>\n",
       "      <td>2021-02-03 00:00:00</td>\n",
       "      <td>USA</td>\n",
       "      <td>2556.744065</td>\n",
       "      <td>2021-01-25</td>\n",
       "      <td>2021-01</td>\n",
       "    </tr>\n",
       "    <tr>\n",
       "      <th>1</th>\n",
       "      <td>2021-01-25</td>\n",
       "      <td>EK_Generic_Swimming</td>\n",
       "      <td>Pool_Booking_App_Exact</td>\n",
       "      <td>Exact</td>\n",
       "      <td>pool booking app</td>\n",
       "      <td>USD</td>\n",
       "      <td>1</td>\n",
       "      <td>13</td>\n",
       "      <td>11.70</td>\n",
       "      <td>0</td>\n",
       "      <td>0</td>\n",
       "      <td>0.0</td>\n",
       "      <td>0</td>\n",
       "      <td>USA</td>\n",
       "      <td>0.000000</td>\n",
       "      <td>2021-01-25</td>\n",
       "      <td>2021-01</td>\n",
       "    </tr>\n",
       "  </tbody>\n",
       "</table>\n",
       "</div>"
      ],
      "text/plain": [
       "  week_start_date        campaign_name                       ad_group  \\\n",
       "0      2021-01-25  EK_Generic_Swimming  Pool_Reservation_System_Exact   \n",
       "1      2021-01-25  EK_Generic_Swimming         Pool_Booking_App_Exact   \n",
       "\n",
       "  keyword_type           search_keyword currency  clicks  impressions   cost  \\\n",
       "0        Exact  pool reservation system      USD       2           17  38.33   \n",
       "1        Exact         pool booking app      USD       1           13  11.70   \n",
       "\n",
       "   leads  prospects  payment         payment_date country     return_%  \\\n",
       "0      0          1    980.0  2021-02-03 00:00:00     USA  2556.744065   \n",
       "1      0          0      0.0                    0     USA     0.000000   \n",
       "\n",
       "        week    month  \n",
       "0 2021-01-25  2021-01  \n",
       "1 2021-01-25  2021-01  "
      ]
     },
     "execution_count": 70,
     "metadata": {},
     "output_type": "execute_result"
    }
   ],
   "source": [
    "df.head(2)"
   ]
  },
  {
   "cell_type": "code",
   "execution_count": 71,
   "metadata": {},
   "outputs": [
    {
     "data": {
      "text/plain": [
       "'Broad'"
      ]
     },
     "execution_count": 71,
     "metadata": {},
     "output_type": "execute_result"
    }
   ],
   "source": [
    "# Group by 'Keyword type' and find the most profitable category/keyword\n",
    "most_profitable_keyword = df.groupby('keyword_type')['return_%'].mean().idxmax()\n",
    "most_profitable_keyword"
   ]
  },
  {
   "cell_type": "code",
   "execution_count": 72,
   "metadata": {},
   "outputs": [
    {
     "data": {
      "text/plain": [
       "'reservation management system'"
      ]
     },
     "execution_count": 72,
     "metadata": {},
     "output_type": "execute_result"
    }
   ],
   "source": [
    "most_profitable_search_keyword = df.groupby('search_keyword')['return_%'].mean().idxmax()\n",
    "most_profitable_search_keyword"
   ]
  },
  {
   "cell_type": "markdown",
   "metadata": {},
   "source": [
    "Conclusion :\n",
    "- Most profitable category/keyword is <b>Broad</b>.\n",
    "- Most profitable search category/keyword is <b>reservation management system</b>.\n"
   ]
  },
  {
   "cell_type": "markdown",
   "metadata": {},
   "source": [
    "<h3>4. Time-Series Analysis</h3>"
   ]
  },
  {
   "cell_type": "code",
   "execution_count": 73,
   "metadata": {},
   "outputs": [
    {
     "data": {
      "text/plain": [
       "Index(['week_start_date', 'campaign_name', 'ad_group', 'keyword_type',\n",
       "       'search_keyword', 'currency', 'clicks', 'impressions', 'cost', 'leads',\n",
       "       'prospects', 'payment', 'payment_date', 'country', 'return_%', 'week',\n",
       "       'month'],\n",
       "      dtype='object')"
      ]
     },
     "execution_count": 73,
     "metadata": {},
     "output_type": "execute_result"
    }
   ],
   "source": [
    "df.columns"
   ]
  },
  {
   "cell_type": "code",
   "execution_count": null,
   "metadata": {},
   "outputs": [],
   "source": [
    "monthly_report['month'] = monthly_report['month'].dt.strftime('%Y-%m')"
   ]
  },
  {
   "cell_type": "code",
   "execution_count": 87,
   "metadata": {},
   "outputs": [
    {
     "data": {
      "image/png": "[encoded data removed]",
      "text/plain": [
       "<Figure size 1200x600 with 1 Axes>"
      ]
     },
     "metadata": {},
     "output_type": "display_data"
    }
   ],
   "source": [
    "# Time series graph for weekly format:\n",
    "plt.figure(figsize=(12,6))\n",
    "sns.lineplot(x='week',y='cost', data=weekly_report,label='Cost ($)')\n",
    "sns.lineplot(x='week',y='payment', data=weekly_report,label='payment ($)')\n",
    "sns.lineplot(x='week', y='return_%', data=weekly_report, label='Return Percentage (%)')\n",
    "plt.title('Weekly Ad spends and returns')\n",
    "plt.xlabel('Week')\n",
    "plt.ylabel('Amount($)')\n",
    "plt.xticks(rotation=45)\n",
    "plt.legend()\n",
    "plt.show()"
   ]
  },
  {
   "cell_type": "code",
   "execution_count": 86,
   "metadata": {},
   "outputs": [
    {
     "data": {
      "image/png": "[encoded data removed]",
      "text/plain": [
       "<Figure size 1200x600 with 1 Axes>"
      ]
     },
     "metadata": {},
     "output_type": "display_data"
    }
   ],
   "source": [
    "# monthly_report['month'] = monthly_report['month'].dt.strftime('%Y-%m')\n",
    "plt.figure(figsize=(12,6))\n",
    "sns.lineplot(x='month',y='cost', data=monthly_report,label='Cost ($)')\n",
    "sns.lineplot(x='month',y='payment', data=monthly_report,label='payment ($)')\n",
    "sns.lineplot(x='month', y='return_%', data=monthly_report, label='Return Percentage (%)')\n",
    "plt.title('Weekly Ad spends and returns')\n",
    "plt.xlabel('month')\n",
    "plt.ylabel('Amount($)')\n",
    "plt.xticks(rotation=45)\n",
    "plt.legend()\n",
    "plt.show()"
   ]
  },
  {
   "cell_type": "markdown",
   "metadata": {},
   "source": [
    "Conclusion:\n",
    "- Maximum return in 2021-01 month.\n",
    "- as the spending on Ad. increases paymnets also increases."
   ]
  },
  {
   "cell_type": "code",
   "execution_count": null,
   "metadata": {},
   "outputs": [
    {
     "data": {
      "image/png": "[encoded data removed]",
      "text/plain": [
       "<Figure size 1000x600 with 1 Axes>"
      ]
     },
     "metadata": {},
     "output_type": "display_data"
    }
   ],
   "source": [
    "# Impact of geography (country) on key metrics\n",
    "df['mean_']\n",
    "plt.figure(figsize=(10, 6))\n",
    "sns.barplot(x='country', y='return_%', data=df)\n",
    "plt.title('Impact of Geography on Profitability')\n",
    "plt.xlabel('Country')\n",
    "plt.ylabel('Profitability (%)')\n",
    "plt.xticks(rotation=45)\n",
    "plt.show()"
   ]
  },
  {
   "cell_type": "markdown",
   "metadata": {},
   "source": [
    "Conclusion:\n",
    "- the height of the bar represents the average profitability for USA.\n",
    "- a value of approx 300% would imply that the returns generated from advertising spends USA are three times the amount spent on advertising.\n",
    "- profitability =( purchase/cost ) *100\n",
    "- the height of the bar represents the average profitability for that country"
   ]
  },
  {
   "cell_type": "code",
   "execution_count": null,
   "metadata": {},
   "outputs": [],
   "source": []
  }
 ],
 "metadata": {
  "kernelspec": {
   "display_name": "Python 3",
   "language": "python",
   "name": "python3"
  },
  "language_info": {
   "codemirror_mode": {
    "name": "ipython",
    "version": 3
   },
   "file_extension": ".py",
   "mimetype": "text/x-python",
   "name": "python",
   "nbconvert_exporter": "python",
   "pygments_lexer": "ipython3",
   "version": "3.9.13"
  },
  "orig_nbformat": 4
 },
 "nbformat": 4,
 "nbformat_minor": 2
}
